{
 "cells": [
  {
   "cell_type": "code",
   "execution_count": 10,
   "metadata": {},
   "outputs": [],
   "source": [
    "import sklearn\n",
    "from sklearn import datasets\n",
    "from sklearn.model_selection import TimeSeriesSplit\n",
    "from sklearn import metrics\n",
    "import numpy as np\n",
    "import pandas as pd\n",
    "import matplotlib.pyplot as plt\n",
    "import pickle"
   ]
  },
  {
   "cell_type": "code",
   "execution_count": 34,
   "metadata": {},
   "outputs": [
    {
     "data": {
      "text/html": [
       "<div>\n",
       "<style scoped>\n",
       "    .dataframe tbody tr th:only-of-type {\n",
       "        vertical-align: middle;\n",
       "    }\n",
       "\n",
       "    .dataframe tbody tr th {\n",
       "        vertical-align: top;\n",
       "    }\n",
       "\n",
       "    .dataframe thead th {\n",
       "        text-align: right;\n",
       "    }\n",
       "</style>\n",
       "<table border=\"1\" class=\"dataframe\">\n",
       "  <thead>\n",
       "    <tr style=\"text-align: right;\">\n",
       "      <th></th>\n",
       "      <th>Dates</th>\n",
       "      <th>Day Of Week</th>\n",
       "      <th>Temp</th>\n",
       "      <th>Dew Point</th>\n",
       "      <th>Humidity</th>\n",
       "      <th>Cloud Cover</th>\n",
       "      <th>Load</th>\n",
       "      <th>day_0</th>\n",
       "      <th>day_1</th>\n",
       "      <th>day_2</th>\n",
       "      <th>day_3</th>\n",
       "      <th>day_4</th>\n",
       "      <th>day_5</th>\n",
       "      <th>day_6</th>\n",
       "      <th>day_7</th>\n",
       "      <th>day_count</th>\n",
       "      <th>hour</th>\n",
       "    </tr>\n",
       "  </thead>\n",
       "  <tbody>\n",
       "    <tr>\n",
       "      <th>0</th>\n",
       "      <td>1/1/2014 0:00</td>\n",
       "      <td>4</td>\n",
       "      <td>41</td>\n",
       "      <td>35</td>\n",
       "      <td>79</td>\n",
       "      <td>30</td>\n",
       "      <td>2096</td>\n",
       "      <td>0</td>\n",
       "      <td>0</td>\n",
       "      <td>0</td>\n",
       "      <td>0</td>\n",
       "      <td>1</td>\n",
       "      <td>0</td>\n",
       "      <td>0</td>\n",
       "      <td>0</td>\n",
       "      <td>0</td>\n",
       "      <td>0</td>\n",
       "    </tr>\n",
       "    <tr>\n",
       "      <th>1</th>\n",
       "      <td>1/1/2014 1:00</td>\n",
       "      <td>4</td>\n",
       "      <td>41</td>\n",
       "      <td>34</td>\n",
       "      <td>76</td>\n",
       "      <td>30</td>\n",
       "      <td>1986</td>\n",
       "      <td>0</td>\n",
       "      <td>0</td>\n",
       "      <td>0</td>\n",
       "      <td>0</td>\n",
       "      <td>1</td>\n",
       "      <td>0</td>\n",
       "      <td>0</td>\n",
       "      <td>0</td>\n",
       "      <td>1</td>\n",
       "      <td>1</td>\n",
       "    </tr>\n",
       "    <tr>\n",
       "      <th>2</th>\n",
       "      <td>1/1/2014 2:00</td>\n",
       "      <td>4</td>\n",
       "      <td>39</td>\n",
       "      <td>31</td>\n",
       "      <td>73</td>\n",
       "      <td>30</td>\n",
       "      <td>1936</td>\n",
       "      <td>0</td>\n",
       "      <td>0</td>\n",
       "      <td>0</td>\n",
       "      <td>0</td>\n",
       "      <td>1</td>\n",
       "      <td>0</td>\n",
       "      <td>0</td>\n",
       "      <td>0</td>\n",
       "      <td>2</td>\n",
       "      <td>2</td>\n",
       "    </tr>\n",
       "    <tr>\n",
       "      <th>3</th>\n",
       "      <td>1/1/2014 3:00</td>\n",
       "      <td>4</td>\n",
       "      <td>39</td>\n",
       "      <td>32</td>\n",
       "      <td>76</td>\n",
       "      <td>30</td>\n",
       "      <td>1896</td>\n",
       "      <td>0</td>\n",
       "      <td>0</td>\n",
       "      <td>0</td>\n",
       "      <td>0</td>\n",
       "      <td>1</td>\n",
       "      <td>0</td>\n",
       "      <td>0</td>\n",
       "      <td>0</td>\n",
       "      <td>3</td>\n",
       "      <td>3</td>\n",
       "    </tr>\n",
       "    <tr>\n",
       "      <th>4</th>\n",
       "      <td>1/1/2014 4:00</td>\n",
       "      <td>4</td>\n",
       "      <td>41</td>\n",
       "      <td>32</td>\n",
       "      <td>70</td>\n",
       "      <td>30</td>\n",
       "      <td>1899</td>\n",
       "      <td>0</td>\n",
       "      <td>0</td>\n",
       "      <td>0</td>\n",
       "      <td>0</td>\n",
       "      <td>1</td>\n",
       "      <td>0</td>\n",
       "      <td>0</td>\n",
       "      <td>0</td>\n",
       "      <td>4</td>\n",
       "      <td>4</td>\n",
       "    </tr>\n",
       "  </tbody>\n",
       "</table>\n",
       "</div>"
      ],
      "text/plain": [
       "           Dates  Day Of Week  Temp  Dew Point  Humidity  Cloud Cover  Load  \\\n",
       "0  1/1/2014 0:00            4    41         35        79           30  2096   \n",
       "1  1/1/2014 1:00            4    41         34        76           30  1986   \n",
       "2  1/1/2014 2:00            4    39         31        73           30  1936   \n",
       "3  1/1/2014 3:00            4    39         32        76           30  1896   \n",
       "4  1/1/2014 4:00            4    41         32        70           30  1899   \n",
       "\n",
       "   day_0  day_1  day_2  day_3  day_4  day_5  day_6  day_7  day_count  hour  \n",
       "0      0      0      0      0      1      0      0      0          0     0  \n",
       "1      0      0      0      0      1      0      0      0          1     1  \n",
       "2      0      0      0      0      1      0      0      0          2     2  \n",
       "3      0      0      0      0      1      0      0      0          3     3  \n",
       "4      0      0      0      0      1      0      0      0          4     4  "
      ]
     },
     "execution_count": 34,
     "metadata": {},
     "output_type": "execute_result"
    }
   ],
   "source": [
    "dataset = pd.read_csv(\"weather and load.csv\")\n",
    "dataset = pd.DataFrame(dataset)\n",
    "dataset = dataset.drop(columns=\"HE\")\n",
    "dataset = dataset.dropna()\n",
    "for x in range(8):\n",
    "    dataset[f\"day_{x}\"] = (dataset[\"Day Of Week\"] == x) * 1\n",
    "dataset[\"day_count\"] = list(range(len(dataset)))\n",
    "dataset[\"hour\"] = dataset.Dates.apply(lambda x: int(x.split()[-1].split(\":\")[0]))\n",
    "dataset.head()"
   ]
  },
  {
   "cell_type": "code",
   "execution_count": 30,
   "metadata": {},
   "outputs": [
    {
     "data": {
      "text/plain": [
       "['1/1/2014', '0:00']"
      ]
     },
     "execution_count": 30,
     "metadata": {},
     "output_type": "execute_result"
    }
   ],
   "source": [
    "dataset.Dates[0].split()"
   ]
  },
  {
   "cell_type": "code",
   "execution_count": 52,
   "metadata": {},
   "outputs": [
    {
     "name": "stdout",
     "output_type": "stream",
     "text": [
      "TimeSeriesSplit(max_train_size=None, n_splits=7)\n",
      "TRAIN: [   0    1    2 ... 5477 5478 5479] TEST: [ 5480  5481  5482 ... 10954 10955 10956]\n",
      "0.9958369795890357\n",
      "0.3973062812292925\n",
      "TRAIN: [    0     1     2 ... 10954 10955 10956] TEST: [10957 10958 10959 ... 16431 16432 16433]\n"
     ]
    },
    {
     "name": "stderr",
     "output_type": "stream",
     "text": [
      "C:\\Users\\patri\\Anaconda3\\lib\\site-packages\\ipykernel_launcher.py:17: DataConversionWarning: A column-vector y was passed when a 1d array was expected. Please change the shape of y to (n_samples,), for example using ravel().\n",
      "C:\\Users\\patri\\Anaconda3\\lib\\site-packages\\ipykernel_launcher.py:17: DataConversionWarning: A column-vector y was passed when a 1d array was expected. Please change the shape of y to (n_samples,), for example using ravel().\n"
     ]
    },
    {
     "name": "stdout",
     "output_type": "stream",
     "text": [
      "0.9950178626636644\n",
      "0.5583929480331773\n",
      "TRAIN: [    0     1     2 ... 16431 16432 16433] TEST: [16434 16435 16436 ... 21908 21909 21910]\n"
     ]
    },
    {
     "name": "stderr",
     "output_type": "stream",
     "text": [
      "C:\\Users\\patri\\Anaconda3\\lib\\site-packages\\ipykernel_launcher.py:17: DataConversionWarning: A column-vector y was passed when a 1d array was expected. Please change the shape of y to (n_samples,), for example using ravel().\n"
     ]
    },
    {
     "name": "stdout",
     "output_type": "stream",
     "text": [
      "0.9939521810346117\n",
      "0.717282828725079\n",
      "TRAIN: [    0     1     2 ... 21908 21909 21910] TEST: [21911 21912 21913 ... 27385 27386 27387]\n"
     ]
    },
    {
     "name": "stderr",
     "output_type": "stream",
     "text": [
      "C:\\Users\\patri\\Anaconda3\\lib\\site-packages\\ipykernel_launcher.py:17: DataConversionWarning: A column-vector y was passed when a 1d array was expected. Please change the shape of y to (n_samples,), for example using ravel().\n"
     ]
    },
    {
     "name": "stdout",
     "output_type": "stream",
     "text": [
      "0.9937838398807507\n",
      "0.8502031385543871\n",
      "TRAIN: [    0     1     2 ... 27385 27386 27387] TEST: [27388 27389 27390 ... 32862 32863 32864]\n"
     ]
    },
    {
     "name": "stderr",
     "output_type": "stream",
     "text": [
      "C:\\Users\\patri\\Anaconda3\\lib\\site-packages\\ipykernel_launcher.py:17: DataConversionWarning: A column-vector y was passed when a 1d array was expected. Please change the shape of y to (n_samples,), for example using ravel().\n"
     ]
    },
    {
     "name": "stdout",
     "output_type": "stream",
     "text": [
      "0.9929104845005045\n",
      "0.7984858484961621\n",
      "TRAIN: [    0     1     2 ... 32862 32863 32864] TEST: [32865 32866 32867 ... 38339 38340 38341]\n"
     ]
    },
    {
     "name": "stderr",
     "output_type": "stream",
     "text": [
      "C:\\Users\\patri\\Anaconda3\\lib\\site-packages\\ipykernel_launcher.py:17: DataConversionWarning: A column-vector y was passed when a 1d array was expected. Please change the shape of y to (n_samples,), for example using ravel().\n"
     ]
    },
    {
     "name": "stdout",
     "output_type": "stream",
     "text": [
      "0.9925627223416442\n",
      "0.5125692581262031\n",
      "TRAIN: [    0     1     2 ... 38339 38340 38341] TEST: [38342 38343 38344 ... 43816 43817 43818]\n"
     ]
    },
    {
     "name": "stderr",
     "output_type": "stream",
     "text": [
      "C:\\Users\\patri\\Anaconda3\\lib\\site-packages\\ipykernel_launcher.py:17: DataConversionWarning: A column-vector y was passed when a 1d array was expected. Please change the shape of y to (n_samples,), for example using ravel().\n"
     ]
    },
    {
     "name": "stdout",
     "output_type": "stream",
     "text": [
      "0.992252018217426\n",
      "0.7355505822727382\n"
     ]
    }
   ],
   "source": [
    "X = dataset[\n",
    "    [\"Temp\", \"Dew Point\",\n",
    "     \"Humidity\", \"Cloud Cover\", \"day_0\", \n",
    "     \"day_1\", \"day_2\", \"day_3\", \"day_4\", \"day_5\", \n",
    "     \"day_6\", \"day_7\", \"day_count\", \"hour\"]]\n",
    "y = dataset[[\"Load\"]]\n",
    "\n",
    "tscv = TimeSeriesSplit(n_splits=7)\n",
    "print(tscv)  \n",
    "TimeSeriesSplit(max_train_size=None, n_splits=4)\n",
    "for train_index, test_index in tscv.split(X):\n",
    "    print(\"TRAIN:\", train_index, \"TEST:\", test_index)\n",
    "    X_train, X_test = X.iloc[train_index], X.iloc[test_index]\n",
    "    y_train, y_test = y.iloc[train_index], y.iloc[test_index]\n",
    "    \n",
    "    rfr = RandomForestRegressor()\n",
    "    rfr.fit(X_train, y_train)\n",
    "    print(rfr.score(X_train, y_train))\n",
    "    print(rfr.score(X_test, y_test))"
   ]
  },
  {
   "cell_type": "code",
   "execution_count": 18,
   "metadata": {},
   "outputs": [
    {
     "data": {
      "text/plain": [
       "(43819, 6)"
      ]
     },
     "execution_count": 18,
     "metadata": {},
     "output_type": "execute_result"
    }
   ],
   "source": []
  },
  {
   "cell_type": "code",
   "execution_count": 74,
   "metadata": {},
   "outputs": [],
   "source": [
    "export_csv = df.to_csv(\"Actual vs Predicted MPG.csv\", index=True)"
   ]
  },
  {
   "cell_type": "code",
   "execution_count": 75,
   "metadata": {},
   "outputs": [],
   "source": [
    "rf_model = open(\"Random_Forest_Model.pkl\", \"wb\")\n",
    "pickle.dump(forest, rf_model)\n",
    "rf_model.close()"
   ]
  },
  {
   "cell_type": "code",
   "execution_count": 76,
   "metadata": {},
   "outputs": [
    {
     "data": {
      "text/plain": [
       "RandomForestRegressor(bootstrap=True, criterion='mse', max_depth=None,\n",
       "           max_features='auto', max_leaf_nodes=None,\n",
       "           min_impurity_decrease=0.0, min_impurity_split=None,\n",
       "           min_samples_leaf=1, min_samples_split=2,\n",
       "           min_weight_fraction_leaf=0.0, n_estimators=10, n_jobs=1,\n",
       "           oob_score=False, random_state=None, verbose=0, warm_start=False)"
      ]
     },
     "execution_count": 76,
     "metadata": {},
     "output_type": "execute_result"
    }
   ],
   "source": [
    "import_model = open(\"Random_Forest_Model.pkl\", \"rb\")\n",
    "model = pickle.load(import_model)\n",
    "model"
   ]
  },
  {
   "cell_type": "code",
   "execution_count": 77,
   "metadata": {},
   "outputs": [
    {
     "data": {
      "text/plain": [
       "array([0.10147174, 0.36651222, 0.03634578, 0.15987663, 0.14646003,\n",
       "       0.18933359, 0.        ])"
      ]
     },
     "execution_count": 77,
     "metadata": {},
     "output_type": "execute_result"
    }
   ],
   "source": [
    "model.feature_importances_"
   ]
  },
  {
   "cell_type": "code",
   "execution_count": 79,
   "metadata": {},
   "outputs": [
    {
     "data": {
      "text/plain": [
       "array([19.94])"
      ]
     },
     "execution_count": 79,
     "metadata": {},
     "output_type": "execute_result"
    }
   ],
   "source": [
    "# \"model year\", \"weight\", \"acceleration\", \"horsepower\", \"displacement\", \"cylinders\", \"constant\"\n",
    "new_car = [[2010, 3500, 13, 155, 350, 8, 1]]\n",
    "model.predict(new_car)"
   ]
  },
  {
   "cell_type": "code",
   "execution_count": null,
   "metadata": {},
   "outputs": [],
   "source": []
  }
 ],
 "metadata": {
  "kernelspec": {
   "display_name": "Python 3",
   "language": "python",
   "name": "python3"
  },
  "language_info": {
   "codemirror_mode": {
    "name": "ipython",
    "version": 3
   },
   "file_extension": ".py",
   "mimetype": "text/x-python",
   "name": "python",
   "nbconvert_exporter": "python",
   "pygments_lexer": "ipython3",
   "version": "3.7.0"
  },
  "toc": {
   "base_numbering": 1,
   "nav_menu": {},
   "number_sections": true,
   "sideBar": true,
   "skip_h1_title": false,
   "title_cell": "Table of Contents",
   "title_sidebar": "Contents",
   "toc_cell": false,
   "toc_position": {},
   "toc_section_display": true,
   "toc_window_display": false
  }
 },
 "nbformat": 4,
 "nbformat_minor": 2
}
