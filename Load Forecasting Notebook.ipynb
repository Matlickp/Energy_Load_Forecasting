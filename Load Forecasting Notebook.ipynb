{
 "cells": [
  {
   "cell_type": "code",
   "execution_count": 1,
   "metadata": {},
   "outputs": [
    {
     "name": "stderr",
     "output_type": "stream",
     "text": [
      "C:\\Users\\patri\\Anaconda3\\lib\\site-packages\\sklearn\\ensemble\\weight_boosting.py:29: DeprecationWarning: numpy.core.umath_tests is an internal NumPy module and should not be imported. It will be removed in a future NumPy release.\n",
      "  from numpy.core.umath_tests import inner1d\n"
     ]
    }
   ],
   "source": [
    "import sklearn\n",
    "from sklearn import datasets\n",
    "from sklearn.ensemble import RandomForestRegressor\n",
    "from sklearn.model_selection import TimeSeriesSplit\n",
    "from sklearn import metrics\n",
    "import numpy as np\n",
    "import pandas as pd\n",
    "import matplotlib.pyplot as plt\n",
    "import pickle"
   ]
  },
  {
   "cell_type": "code",
   "execution_count": 2,
   "metadata": {},
   "outputs": [
    {
     "data": {
      "text/html": [
       "<div>\n",
       "<style scoped>\n",
       "    .dataframe tbody tr th:only-of-type {\n",
       "        vertical-align: middle;\n",
       "    }\n",
       "\n",
       "    .dataframe tbody tr th {\n",
       "        vertical-align: top;\n",
       "    }\n",
       "\n",
       "    .dataframe thead th {\n",
       "        text-align: right;\n",
       "    }\n",
       "</style>\n",
       "<table border=\"1\" class=\"dataframe\">\n",
       "  <thead>\n",
       "    <tr style=\"text-align: right;\">\n",
       "      <th></th>\n",
       "      <th>Dates</th>\n",
       "      <th>Day Of Week</th>\n",
       "      <th>Temp</th>\n",
       "      <th>Dew Point</th>\n",
       "      <th>Humidity</th>\n",
       "      <th>Cloud Cover</th>\n",
       "      <th>Load</th>\n",
       "      <th>day_0</th>\n",
       "      <th>day_1</th>\n",
       "      <th>day_2</th>\n",
       "      <th>day_3</th>\n",
       "      <th>day_4</th>\n",
       "      <th>day_5</th>\n",
       "      <th>day_6</th>\n",
       "      <th>day_7</th>\n",
       "      <th>hour_count</th>\n",
       "      <th>hour</th>\n",
       "    </tr>\n",
       "  </thead>\n",
       "  <tbody>\n",
       "    <tr>\n",
       "      <th>0</th>\n",
       "      <td>1/1/2014 0:00</td>\n",
       "      <td>4</td>\n",
       "      <td>41</td>\n",
       "      <td>35</td>\n",
       "      <td>79</td>\n",
       "      <td>30</td>\n",
       "      <td>2096</td>\n",
       "      <td>0</td>\n",
       "      <td>0</td>\n",
       "      <td>0</td>\n",
       "      <td>0</td>\n",
       "      <td>1</td>\n",
       "      <td>0</td>\n",
       "      <td>0</td>\n",
       "      <td>0</td>\n",
       "      <td>0</td>\n",
       "      <td>0</td>\n",
       "    </tr>\n",
       "    <tr>\n",
       "      <th>1</th>\n",
       "      <td>1/1/2014 1:00</td>\n",
       "      <td>4</td>\n",
       "      <td>41</td>\n",
       "      <td>34</td>\n",
       "      <td>76</td>\n",
       "      <td>30</td>\n",
       "      <td>1986</td>\n",
       "      <td>0</td>\n",
       "      <td>0</td>\n",
       "      <td>0</td>\n",
       "      <td>0</td>\n",
       "      <td>1</td>\n",
       "      <td>0</td>\n",
       "      <td>0</td>\n",
       "      <td>0</td>\n",
       "      <td>1</td>\n",
       "      <td>1</td>\n",
       "    </tr>\n",
       "    <tr>\n",
       "      <th>2</th>\n",
       "      <td>1/1/2014 2:00</td>\n",
       "      <td>4</td>\n",
       "      <td>39</td>\n",
       "      <td>31</td>\n",
       "      <td>73</td>\n",
       "      <td>30</td>\n",
       "      <td>1936</td>\n",
       "      <td>0</td>\n",
       "      <td>0</td>\n",
       "      <td>0</td>\n",
       "      <td>0</td>\n",
       "      <td>1</td>\n",
       "      <td>0</td>\n",
       "      <td>0</td>\n",
       "      <td>0</td>\n",
       "      <td>2</td>\n",
       "      <td>2</td>\n",
       "    </tr>\n",
       "    <tr>\n",
       "      <th>3</th>\n",
       "      <td>1/1/2014 3:00</td>\n",
       "      <td>4</td>\n",
       "      <td>39</td>\n",
       "      <td>32</td>\n",
       "      <td>76</td>\n",
       "      <td>30</td>\n",
       "      <td>1896</td>\n",
       "      <td>0</td>\n",
       "      <td>0</td>\n",
       "      <td>0</td>\n",
       "      <td>0</td>\n",
       "      <td>1</td>\n",
       "      <td>0</td>\n",
       "      <td>0</td>\n",
       "      <td>0</td>\n",
       "      <td>3</td>\n",
       "      <td>3</td>\n",
       "    </tr>\n",
       "    <tr>\n",
       "      <th>4</th>\n",
       "      <td>1/1/2014 4:00</td>\n",
       "      <td>4</td>\n",
       "      <td>41</td>\n",
       "      <td>32</td>\n",
       "      <td>70</td>\n",
       "      <td>30</td>\n",
       "      <td>1899</td>\n",
       "      <td>0</td>\n",
       "      <td>0</td>\n",
       "      <td>0</td>\n",
       "      <td>0</td>\n",
       "      <td>1</td>\n",
       "      <td>0</td>\n",
       "      <td>0</td>\n",
       "      <td>0</td>\n",
       "      <td>4</td>\n",
       "      <td>4</td>\n",
       "    </tr>\n",
       "  </tbody>\n",
       "</table>\n",
       "</div>"
      ],
      "text/plain": [
       "           Dates  Day Of Week  Temp  Dew Point  Humidity  Cloud Cover  Load  \\\n",
       "0  1/1/2014 0:00            4    41         35        79           30  2096   \n",
       "1  1/1/2014 1:00            4    41         34        76           30  1986   \n",
       "2  1/1/2014 2:00            4    39         31        73           30  1936   \n",
       "3  1/1/2014 3:00            4    39         32        76           30  1896   \n",
       "4  1/1/2014 4:00            4    41         32        70           30  1899   \n",
       "\n",
       "   day_0  day_1  day_2  day_3  day_4  day_5  day_6  day_7  hour_count  hour  \n",
       "0      0      0      0      0      1      0      0      0           0     0  \n",
       "1      0      0      0      0      1      0      0      0           1     1  \n",
       "2      0      0      0      0      1      0      0      0           2     2  \n",
       "3      0      0      0      0      1      0      0      0           3     3  \n",
       "4      0      0      0      0      1      0      0      0           4     4  "
      ]
     },
     "execution_count": 2,
     "metadata": {},
     "output_type": "execute_result"
    }
   ],
   "source": [
    "# Read weather and load csv\n",
    "# Drop \"HE\" and nulls\n",
    "# Add a day and hour count variable\n",
    "dataset = pd.read_csv(\"weather and load.csv\")\n",
    "dataset = pd.DataFrame(dataset)\n",
    "dataset = dataset.drop(columns=\"HE\")\n",
    "dataset = dataset.dropna()\n",
    "\n",
    "for x in range(8):\n",
    "    dataset[f\"day_{x}\"] = (dataset[\"Day Of Week\"] == x) *1\n",
    "dataset[\"hour_count\"] = list(range(len(dataset)))\n",
    "dataset[\"hour\"] = dataset.Dates.apply(lambda x: int(x.split()[-1].split(\":\")[0]))\n",
    "ML_csv = dataset.to_csv(\"ML variables.csv\", index=True)\n",
    "dataset.head()"
   ]
  },
  {
   "cell_type": "code",
   "execution_count": 3,
   "metadata": {},
   "outputs": [
    {
     "data": {
      "text/plain": [
       "['1/1/2014', '0:00']"
      ]
     },
     "execution_count": 3,
     "metadata": {},
     "output_type": "execute_result"
    }
   ],
   "source": [
    "# Split date and hour into separate columns\n",
    "dataset.Dates[0].split()"
   ]
  },
  {
   "cell_type": "code",
   "execution_count": 5,
   "metadata": {},
   "outputs": [
    {
     "name": "stdout",
     "output_type": "stream",
     "text": [
      "TimeSeriesSplit(max_train_size=None, n_splits=4)\n",
      "TRAIN: [   0    1    2 ... 8764 8765 8766] TEST: [ 8767  8768  8769 ... 17527 17528 17529]\n",
      "0.9607513119567581\n",
      "0.7943388040795165\n",
      "TRAIN: [    0     1     2 ... 17527 17528 17529] TEST: [17530 17531 17532 ... 26290 26291 26292]\n"
     ]
    },
    {
     "name": "stderr",
     "output_type": "stream",
     "text": [
      "C:\\Users\\patri\\Anaconda3\\lib\\site-packages\\ipykernel_launcher.py:20: DataConversionWarning: A column-vector y was passed when a 1d array was expected. Please change the shape of y to (n_samples,), for example using ravel().\n",
      "C:\\Users\\patri\\Anaconda3\\lib\\site-packages\\ipykernel_launcher.py:20: DataConversionWarning: A column-vector y was passed when a 1d array was expected. Please change the shape of y to (n_samples,), for example using ravel().\n"
     ]
    },
    {
     "name": "stdout",
     "output_type": "stream",
     "text": [
      "0.9446133839377079\n",
      "0.7913448222641697\n",
      "TRAIN: [    0     1     2 ... 26290 26291 26292] TEST: [26293 26294 26295 ... 35053 35054 35055]\n"
     ]
    },
    {
     "name": "stderr",
     "output_type": "stream",
     "text": [
      "C:\\Users\\patri\\Anaconda3\\lib\\site-packages\\ipykernel_launcher.py:20: DataConversionWarning: A column-vector y was passed when a 1d array was expected. Please change the shape of y to (n_samples,), for example using ravel().\n"
     ]
    },
    {
     "name": "stdout",
     "output_type": "stream",
     "text": [
      "0.9284267470310407\n",
      "0.7107864092291463\n",
      "TRAIN: [    0     1     2 ... 35053 35054 35055] TEST: [35056 35057 35058 ... 43816 43817 43818]\n"
     ]
    },
    {
     "name": "stderr",
     "output_type": "stream",
     "text": [
      "C:\\Users\\patri\\Anaconda3\\lib\\site-packages\\ipykernel_launcher.py:20: DataConversionWarning: A column-vector y was passed when a 1d array was expected. Please change the shape of y to (n_samples,), for example using ravel().\n"
     ]
    },
    {
     "name": "stdout",
     "output_type": "stream",
     "text": [
      "0.9153370969522089\n",
      "0.822302102484802\n"
     ]
    }
   ],
   "source": [
    "# Set X and y \n",
    "X = dataset[\n",
    "    [\"Temp\",\"Cloud Cover\", \"Humidity\", \"Dew Point\",\n",
    "     \"day_0\", \"day_1\", \"day_2\", \"day_3\", \"day_4\", \"day_5\", \n",
    "     \"day_6\", \"day_7\", \"hour_count\", \"hour\"]]\n",
    "y = dataset[[\"Load\"]]\n",
    "\n",
    "# Create TimeSeriesSplit\n",
    "tscv = TimeSeriesSplit(n_splits=4)\n",
    "print(tscv)  \n",
    "\n",
    "# Loop through TimeSeriesSplits and train RandomForrestRegressor\n",
    "for train_index, test_index in tscv.split(X):\n",
    "    print(\"TRAIN:\", train_index, \"TEST:\", test_index)\n",
    "    X_train, X_test = X.iloc[train_index], X.iloc[test_index]\n",
    "    y_train, y_test = y.iloc[train_index], y.iloc[test_index]\n",
    "    \n",
    "    # Set RFR params\n",
    "    rfr = RandomForestRegressor(max_features=.75, max_depth=8, min_samples_leaf=3, max_leaf_nodes=200)\n",
    "    rfr.fit(X_train, y_train)\n",
    "    print(rfr.score(X_train, y_train))\n",
    "    print(rfr.score(X_test, y_test))"
   ]
  },
  {
   "cell_type": "code",
   "execution_count": 166,
   "metadata": {
    "scrolled": true
   },
   "outputs": [
    {
     "data": {
      "text/html": [
       "<div>\n",
       "<style scoped>\n",
       "    .dataframe tbody tr th:only-of-type {\n",
       "        vertical-align: middle;\n",
       "    }\n",
       "\n",
       "    .dataframe tbody tr th {\n",
       "        vertical-align: top;\n",
       "    }\n",
       "\n",
       "    .dataframe thead th {\n",
       "        text-align: right;\n",
       "    }\n",
       "</style>\n",
       "<table border=\"1\" class=\"dataframe\">\n",
       "  <thead>\n",
       "    <tr style=\"text-align: right;\">\n",
       "      <th></th>\n",
       "      <th>Hour Count</th>\n",
       "      <th>Actual:</th>\n",
       "      <th>Predicted:</th>\n",
       "    </tr>\n",
       "  </thead>\n",
       "  <tbody>\n",
       "    <tr>\n",
       "      <th>35056</th>\n",
       "      <td>35056</td>\n",
       "      <td>1911</td>\n",
       "      <td>1883.807674</td>\n",
       "    </tr>\n",
       "    <tr>\n",
       "      <th>35057</th>\n",
       "      <td>35057</td>\n",
       "      <td>1963</td>\n",
       "      <td>1887.588304</td>\n",
       "    </tr>\n",
       "    <tr>\n",
       "      <th>35058</th>\n",
       "      <td>35058</td>\n",
       "      <td>2033</td>\n",
       "      <td>1952.670918</td>\n",
       "    </tr>\n",
       "    <tr>\n",
       "      <th>35059</th>\n",
       "      <td>35059</td>\n",
       "      <td>2132</td>\n",
       "      <td>2101.429023</td>\n",
       "    </tr>\n",
       "    <tr>\n",
       "      <th>35060</th>\n",
       "      <td>35060</td>\n",
       "      <td>2304</td>\n",
       "      <td>2514.380864</td>\n",
       "    </tr>\n",
       "  </tbody>\n",
       "</table>\n",
       "</div>"
      ],
      "text/plain": [
       "       Hour Count  Actual:   Predicted: \n",
       "35056       35056      1911  1883.807674\n",
       "35057       35057      1963  1887.588304\n",
       "35058       35058      2033  1952.670918\n",
       "35059       35059      2132  2101.429023\n",
       "35060       35060      2304  2514.380864"
      ]
     },
     "execution_count": 166,
     "metadata": {},
     "output_type": "execute_result"
    }
   ],
   "source": [
    "#Create DF of the actual and predicted loads\n",
    "pred_y = rfr.predict(X_test)\n",
    "\n",
    "df = pd.DataFrame({ \"Hour Count\" : X_test.hour_count,\n",
    "                    \"Actual: \" : y_test.values.ravel(),\n",
    "                    \"Predicted: \" : pred_y.ravel()})\n",
    "df.head()"
   ]
  },
  {
   "cell_type": "code",
   "execution_count": 167,
   "metadata": {},
   "outputs": [
    {
     "name": "stdout",
     "output_type": "stream",
     "text": [
      "0.8267770038178446\n"
     ]
    }
   ],
   "source": [
    "# Print final R^2 value\n",
    "print(rfr.score(X_test, y_test))"
   ]
  },
  {
   "cell_type": "code",
   "execution_count": 168,
   "metadata": {},
   "outputs": [],
   "source": [
    "# Save CSV\n",
    "export_csv = df.to_csv(\"Actual vs Predicted Load.csv\", index=True)"
   ]
  },
  {
   "cell_type": "code",
   "execution_count": 169,
   "metadata": {},
   "outputs": [],
   "source": [
    "# Write/Pickle Model\n",
    "rf_model = open(\"Random_Forest_Model.pkl\", \"wb\")\n",
    "pickle.dump(rfr, rf_model)\n",
    "rf_model.close()"
   ]
  },
  {
   "cell_type": "code",
   "execution_count": 170,
   "metadata": {},
   "outputs": [
    {
     "data": {
      "text/plain": [
       "RandomForestRegressor(bootstrap=True, criterion='mse', max_depth=8,\n",
       "           max_features=0.75, max_leaf_nodes=200,\n",
       "           min_impurity_decrease=0.0, min_impurity_split=None,\n",
       "           min_samples_leaf=3, min_samples_split=2,\n",
       "           min_weight_fraction_leaf=0.0, n_estimators=10, n_jobs=1,\n",
       "           oob_score=False, random_state=None, verbose=0, warm_start=False)"
      ]
     },
     "execution_count": 170,
     "metadata": {},
     "output_type": "execute_result"
    }
   ],
   "source": [
    "# Read Model from Pickle\n",
    "import_model = open(\"Random_Forest_Model.pkl\", \"rb\")\n",
    "model = pickle.load(import_model)\n",
    "model"
   ]
  },
  {
   "cell_type": "code",
   "execution_count": 171,
   "metadata": {},
   "outputs": [
    {
     "data": {
      "text/plain": [
       "array([2.17316676e-01, 3.56445910e-03, 4.61272398e-02, 1.65585179e-01,\n",
       "       0.00000000e+00, 2.51342610e-02, 1.23524776e-04, 7.21479195e-05,\n",
       "       2.12454052e-05, 8.69977825e-05, 0.00000000e+00, 1.71256911e-02,\n",
       "       6.13015689e-02, 4.63541009e-01])"
      ]
     },
     "execution_count": 171,
     "metadata": {},
     "output_type": "execute_result"
    }
   ],
   "source": [
    "# Check Features\n",
    "model.feature_importances_"
   ]
  },
  {
   "cell_type": "code",
   "execution_count": 173,
   "metadata": {},
   "outputs": [
    {
     "data": {
      "text/plain": [
       "array([1852.86881169])"
      ]
     },
     "execution_count": 173,
     "metadata": {},
     "output_type": "execute_result"
    }
   ],
   "source": [
    "# Temp, Dew Point, Humidity, Cloud Cover, \n",
    "# day_0, day_1, day_2, day_3, day_4, day_5,\n",
    "# day_6, day_7, day_count, hour\n",
    "# Actual Load for below conditions = 1899\n",
    "weather_conditions = [[41, 32, 70, 30, 0, 0, 0, 0, 1, 0, 0, 0, 4, 4]]\n",
    "model.predict(weather_conditions)"
   ]
  },
  {
   "cell_type": "code",
   "execution_count": null,
   "metadata": {},
   "outputs": [],
   "source": []
  }
 ],
 "metadata": {
  "kernelspec": {
   "display_name": "Python 3",
   "language": "python",
   "name": "python3"
  },
  "language_info": {
   "codemirror_mode": {
    "name": "ipython",
    "version": 3
   },
   "file_extension": ".py",
   "mimetype": "text/x-python",
   "name": "python",
   "nbconvert_exporter": "python",
   "pygments_lexer": "ipython3",
   "version": "3.7.0"
  },
  "toc": {
   "base_numbering": 1,
   "nav_menu": {},
   "number_sections": true,
   "sideBar": true,
   "skip_h1_title": false,
   "title_cell": "Table of Contents",
   "title_sidebar": "Contents",
   "toc_cell": false,
   "toc_position": {},
   "toc_section_display": true,
   "toc_window_display": false
  }
 },
 "nbformat": 4,
 "nbformat_minor": 2
}
